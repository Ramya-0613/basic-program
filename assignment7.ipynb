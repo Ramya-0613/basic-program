{
 "cells": [
  {
   "cell_type": "code",
   "execution_count": 6,
   "id": "f4587e2d",
   "metadata": {},
   "outputs": [
    {
     "name": "stdout",
     "output_type": "stream",
     "text": [
      "1 4 5\n",
      "sum of the array is: 10\n"
     ]
    }
   ],
   "source": [
    "def sumofarr(arr):\n",
    "    sum=0\n",
    "    a=len(arr)\n",
    "    for i in range(a):\n",
    "        sum=sum+arr[i]\n",
    "    return (sum)\n",
    "a=list(map(int,input().split()))\n",
    "print(\"sum of the array is:\",sumofarr(a))"
   ]
  },
  {
   "cell_type": "code",
   "execution_count": 17,
   "id": "73bd685c",
   "metadata": {},
   "outputs": [
    {
     "name": "stdout",
     "output_type": "stream",
     "text": [
      "2 3 4\n",
      "4\n"
     ]
    }
   ],
   "source": [
    "n=list(map(int,input().split()))\n",
    "print(max(n))"
   ]
  },
  {
   "cell_type": "code",
   "execution_count": 5,
   "id": "4bf03d1e",
   "metadata": {},
   "outputs": [
    {
     "name": "stdout",
     "output_type": "stream",
     "text": [
      "1 2 3 4 5 6 7 8 9\n",
      "3 4 5 6 7 8 9 1 2\n"
     ]
    }
   ],
   "source": [
    " def rotate(arr,d,n):\n",
    "        arr=arr[d:n]+arr[0:d]\n",
    "        return arr\n",
    "arr=list(map(int,input().split()))\n",
    "print(*rotate(arr,2,len(arr)))"
   ]
  },
  {
   "cell_type": "code",
   "execution_count": 6,
   "id": "8a86d7e5",
   "metadata": {},
   "outputs": [
    {
     "name": "stdout",
     "output_type": "stream",
     "text": [
      "1 2 3 6 5 8 7 9\n",
      "2\n",
      "7 9 1 2 3 6 5 8\n"
     ]
    }
   ],
   "source": [
    "a=list(map(int,input().split()))\n",
    "d=int(input())\n",
    "n=len(a)\n",
    "a=a[n-d:]+a[0:n-d]\n",
    "print(*a)"
   ]
  },
  {
   "cell_type": "code",
   "execution_count": 19,
   "id": "51d17e52",
   "metadata": {},
   "outputs": [
    {
     "name": "stdout",
     "output_type": "stream",
     "text": [
      "6 5 4 2\n",
      "True\n"
     ]
    }
   ],
   "source": [
    "def ismonotonic(a):\n",
    "    n=len(a)\n",
    "    if len(a)==1:\n",
    "        return True\n",
    "    else:\n",
    "        if all(a[i]>=a[i+1] for i in range(0,n-1) or a[i]<=a[i+1] for i in range(0,n-1)):\n",
    "            return True\n",
    "        else:\n",
    "            return False\n",
    "a=list(map(int,input().split()))\n",
    "print(ismonotonic(a))\n",
    "            \n",
    "    \n",
    "    \n",
    "    "
   ]
  },
  {
   "cell_type": "code",
   "execution_count": 11,
   "id": "c6f78d5b",
   "metadata": {},
   "outputs": [
    {
     "ename": "SyntaxError",
     "evalue": "invalid syntax (Temp/ipykernel_12432/3400368256.py, line 2)",
     "output_type": "error",
     "traceback": [
      "\u001b[1;36m  File \u001b[1;32m\"C:\\Users\\ramya\\AppData\\Local\\Temp/ipykernel_12432/3400368256.py\"\u001b[1;36m, line \u001b[1;32m2\u001b[0m\n\u001b[1;33m    if all(arr[i]>=[i+1] for i in range(0,n-1)) or (arr[i]<=arr)\u001b[0m\n\u001b[1;37m                                                                ^\u001b[0m\n\u001b[1;31mSyntaxError\u001b[0m\u001b[1;31m:\u001b[0m invalid syntax\n"
     ]
    }
   ],
   "source": [
    "def motonoic(arr):\n",
    "    if all(arr[i]>=[i+1] for i in range(0,n-1)) or (arr[i]<=arr)"
   ]
  },
  {
   "cell_type": "code",
   "execution_count": null,
   "id": "dccc18a1",
   "metadata": {},
   "outputs": [],
   "source": []
  }
 ],
 "metadata": {
  "kernelspec": {
   "display_name": "Python 3 (ipykernel)",
   "language": "python",
   "name": "python3"
  },
  "language_info": {
   "codemirror_mode": {
    "name": "ipython",
    "version": 3
   },
   "file_extension": ".py",
   "mimetype": "text/x-python",
   "name": "python",
   "nbconvert_exporter": "python",
   "pygments_lexer": "ipython3",
   "version": "3.9.7"
  }
 },
 "nbformat": 4,
 "nbformat_minor": 5
}
